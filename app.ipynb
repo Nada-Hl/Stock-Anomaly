{
 "cells": [
  {
   "cell_type": "code",
   "execution_count": 1,
   "id": "cca5319d-2327-4372-b09e-08a9b61f6054",
   "metadata": {},
   "outputs": [],
   "source": [
    "import pandas as pd\n",
    "from fastapi import FastAPI, HTTPException, Query\n",
    "from fastapi.responses import HTMLResponse\n",
    "from fastapi.templating import Jinja2Templates\n",
    "from fastapi.staticfiles import StaticFiles\n",
    "from pathlib import Path\n",
    "from fastapi import Request\n",
    "from pydantic import BaseModel\n",
    "import nbformat\n",
    "from threading import Thread\n",
    "import uvicorn\n",
    "import nest_asyncio\n",
    "from typing import List\n",
    "import math\n",
    "from fastapi.responses import JSONResponse\n",
    "import pickle\n",
    "import numpy as np\n",
    "from sklearn.preprocessing import StandardScaler\n",
    "import json\n",
    "from io import BytesIO\n",
    "from azure.storage.blob import BlobServiceClient\n",
    "from alpha_vantage.timeseries import TimeSeries\n",
    "import io\n",
    "import sys\n",
    "import matplotlib.pyplot as plt\n",
    "import builtins"
   ]
  },
  {
   "cell_type": "code",
   "execution_count": 2,
   "id": "7a8d0df1-dd27-48d7-bbbb-a52156fd2cbc",
   "metadata": {},
   "outputs": [],
   "source": [
    "connection_string = 'DefaultEndpointsProtocol=https;AccountName=stockanomaly;AccountKey=XCfgpf5eX6ZK1OBnGo+/DzOZQ8WsApNYvLuOGn2TbalNN3tpvvOQjjXGXYJbJ5xc9Wmip6LoOysj+AStfWHBNA==;EndpointSuffix=core.windows.net'\n",
    "container_name = \"containerstock\"\n",
    "blob_name = \"MSFT.csv\"\n",
    "\n",
    "blob_service_client = BlobServiceClient.from_connection_string(connection_string)\n",
    "container_client = blob_service_client.get_container_client(container_name)\n",
    "blob_client = container_client.get_blob_client(blob_name)\n",
    "blob_stream = blob_client.download_blob().readall()\n",
    "data_blob = pd.read_csv(BytesIO(blob_stream), parse_dates=[\"Date\"])"
   ]
  },
  {
   "cell_type": "code",
   "execution_count": 3,
   "id": "c187882a-2b82-4022-a888-fd659a162347",
   "metadata": {},
   "outputs": [],
   "source": [
    "last_date = data_blob[\"Date\"].max()"
   ]
  },
  {
   "cell_type": "code",
   "execution_count": 4,
   "id": "a7f3bdf2-2537-46f7-ad97-1ec128008b6d",
   "metadata": {},
   "outputs": [
    {
     "name": "stdout",
     "output_type": "stream",
     "text": [
      "0 nouvelles lignes récupérées.\n"
     ]
    }
   ],
   "source": [
    "API_KEY = 'OYEDBWJJQM4XPHZ9'\n",
    "SYMBOL = \"MSFT\"\n",
    "\n",
    "def fetch_new_data(api_key, symbol, last_date):\n",
    "    ts = TimeSeries(key=api_key, output_format=\"pandas\")\n",
    "    data, _ = ts.get_daily(symbol=symbol, outputsize=\"full\")\n",
    "    \n",
    "    # Convertir l'index en colonne pour le filtrage\n",
    "    data.reset_index(inplace=True)\n",
    "    data.rename(columns={\"index\": \"Date\"}, inplace=True)\n",
    "    \n",
    "    # Filtrer les données plus récentes que `last_date`\n",
    "    new_data = data[pd.to_datetime(data[\"date\"]) > last_date]\n",
    "    print(f\"{len(new_data)} nouvelles lignes récupérées.\")\n",
    "    \n",
    "    return new_data\n",
    "\n",
    "# Appeler la fonction\n",
    "new_data = fetch_new_data(API_KEY, SYMBOL, last_date)"
   ]
  },
  {
   "cell_type": "code",
   "execution_count": 5,
   "id": "c633c435-5795-410e-b1d6-acfca32378e6",
   "metadata": {},
   "outputs": [],
   "source": [
    "def rename_columns(new_data):\n",
    "    new_data = new_data.rename(columns={\n",
    "        \"date\"   : \"Date\",\n",
    "        \"1. open\": \"Open\",\n",
    "        \"2. high\": \"High\",\n",
    "        \"3. low\": \"Low\",\n",
    "        \"4. close\": \"Close\",\n",
    "        \"5. volume\": \"Volume\"\n",
    "\n",
    "    })\n",
    "    return new_data\n",
    "new_data= rename_columns(new_data)"
   ]
  },
  {
   "cell_type": "code",
   "execution_count": 6,
   "id": "7571d129-100d-416b-b323-7f83b72906d6",
   "metadata": {},
   "outputs": [],
   "source": [
    "combined_data = pd.concat([data_blob, new_data], ignore_index=True)\n",
    "combined_data = combined_data.drop_duplicates(subset=\"Date\", keep=\"last\").sort_values(\"Date\")"
   ]
  },
  {
   "cell_type": "code",
   "execution_count": 7,
   "id": "1b17243a-ac38-41fb-89e9-61fa85adf250",
   "metadata": {},
   "outputs": [
    {
     "data": {
      "text/plain": [
       "{'etag': '\"0x8DD1C98AC6F100F\"',\n",
       " 'last_modified': datetime.datetime(2024, 12, 14, 23, 40, 21, tzinfo=datetime.timezone.utc),\n",
       " 'content_md5': bytearray(b'\\rL\\xb8v\\xf8\\xa3\\xcd\\xddN\\\\\\xe4{^\\xbf\\xd7\\xb4'),\n",
       " 'client_request_id': 'b15de885-ba74-11ef-8da9-f8633f343f5e',\n",
       " 'request_id': '387e6330-c01e-0021-5381-4e1bc6000000',\n",
       " 'version': '2025-01-05',\n",
       " 'version_id': '2024-12-14T23:40:21.0054943Z',\n",
       " 'date': datetime.datetime(2024, 12, 14, 23, 40, 20, tzinfo=datetime.timezone.utc),\n",
       " 'request_server_encrypted': True,\n",
       " 'encryption_key_sha256': None,\n",
       " 'encryption_scope': None,\n",
       " 'structured_body': None}"
      ]
     },
     "execution_count": 7,
     "metadata": {},
     "output_type": "execute_result"
    }
   ],
   "source": [
    "blob_client.upload_blob(combined_data.to_csv(index=False), overwrite=True)"
   ]
  },
  {
   "cell_type": "code",
   "execution_count": 8,
   "id": "61d3a002-9675-4f59-99a7-1fea96951bae",
   "metadata": {},
   "outputs": [],
   "source": [
    "with open('MSFT_stocky.ipynb') as f:\n",
    "    notebook_data = nbformat.read(f, as_version=4)\n",
    "\n",
    "original_stdout = sys.stdout\n",
    "sys.stdout = io.StringIO()\n",
    "\n",
    "original_show = plt.show\n",
    "original_print = builtins.print\n",
    "\n",
    "def block_print(*args, **kwargs):\n",
    "    pass  # Annule toute commande print\n",
    "\n",
    "def block_show(*args, **kwargs):\n",
    "    pass  # Annule plt.show()\n",
    "\n",
    "builtins.print = block_print\n",
    "plt.show = block_show\n",
    "\n",
    "try:\n",
    "    for cell in notebook_data['cells']:\n",
    "        if cell['cell_type'] == 'code':\n",
    "            code = cell['source']\n",
    "            \n",
    "            plt.ioff()  \n",
    "            exec(code) \n",
    "            plt.close('all') \n",
    "finally:\n",
    "   \n",
    "    sys.stdout = original_stdout\n",
    "    builtins.print = original_print\n",
    "    plt.show = original_show\n",
    "    plt.ion() "
   ]
  },
  {
   "cell_type": "code",
   "execution_count": 9,
   "id": "3effcd70-4d46-4079-868a-bd6596af63f3",
   "metadata": {},
   "outputs": [],
   "source": [
    "nest_asyncio.apply()"
   ]
  },
  {
   "cell_type": "code",
   "execution_count": 10,
   "id": "7df193d3-76d4-4a55-97e4-7b211ecf4f6d",
   "metadata": {},
   "outputs": [],
   "source": [
    "app = FastAPI()"
   ]
  },
  {
   "cell_type": "code",
   "execution_count": 11,
   "id": "cb2475e9-dff8-411e-96af-7baa58c7aacd",
   "metadata": {},
   "outputs": [],
   "source": [
    "class Features(BaseModel):\n",
    "    Date: str\n",
    "    Open: float\n",
    "    High: float\n",
    "    Low: float\n",
    "    Close: float\n",
    "    Adj_Close: float\n",
    "    Volume: float\n",
    "    PRV: float"
   ]
  },
  {
   "cell_type": "code",
   "execution_count": 12,
   "id": "67a542dc-3077-44c2-a965-090ed29efd52",
   "metadata": {},
   "outputs": [],
   "source": [
    "class MonthlyAnomaly(BaseModel):\n",
    "    Month: str\n",
    "    Anomalies: int\n",
    "    Percentage_Change: float"
   ]
  },
  {
   "cell_type": "code",
   "execution_count": 13,
   "id": "17858287-b0b0-4010-9228-7e0597a6b687",
   "metadata": {},
   "outputs": [],
   "source": [
    "class Anomaly(BaseModel):\n",
    "    Date: str\n",
    "    Open: float\n",
    "    Close: float\n",
    "    High: float\n",
    "    Low: float\n",
    "    Anomaly: int"
   ]
  },
  {
   "cell_type": "code",
   "execution_count": 14,
   "id": "07063b2d-831a-40fa-9e3a-3c5e1a0deeab",
   "metadata": {},
   "outputs": [],
   "source": [
    "templates = Jinja2Templates(directory=\"templates\")  # Path to your 'templates' folder\n",
    "app.mount(\"/static\", StaticFiles(directory=\"static\"), name=\"static\")"
   ]
  },
  {
   "cell_type": "code",
   "execution_count": 15,
   "id": "a0cd54e2-b59a-4816-845b-54851f387b0d",
   "metadata": {},
   "outputs": [],
   "source": [
    "blob_name_new = \"New_MSFT.csv\"\n",
    "\n",
    "blob_service_client_new = BlobServiceClient.from_connection_string(connection_string)\n",
    "container_client_new = blob_service_client.get_container_client(container_name)\n",
    "blob_client_new = container_client_new.get_blob_client(blob_name_new)\n",
    "blob_stream_new = blob_client_new.download_blob().readall()\n",
    "df=pd.read_csv(BytesIO(blob_stream_new), parse_dates=[\"Date\"])\n",
    "\n",
    "@app.get(\"/anomalies\", response_model=List[MonthlyAnomaly])\n",
    "async def get_monthly_anomalies():\n",
    "    \n",
    "    df[\"Date\"] = pd.to_datetime(df[\"Date\"])\n",
    "    current_year = pd.Timestamp.now().year\n",
    "    yearly_data = df[df[\"Date\"].dt.year == current_year]\n",
    "\n",
    "    yearly_data = yearly_data.copy()\n",
    "    yearly_data[\"Month\"] = yearly_data[\"Date\"].dt.month\n",
    "    monthly_anomalies = yearly_data.groupby(\"Month\").agg(\n",
    "        Anomalies=(\"Anomaly\", \"sum\") \n",
    "    ).reset_index()\n",
    "    \n",
    "    months = pd.DataFrame({\"Month\": range(1, 13)})\n",
    "    monthly_anomalies = months.merge(monthly_anomalies, on=\"Month\", how=\"left\").fillna(0)\n",
    "    \n",
    "    monthly_anomalies[\"Anomalies\"] = monthly_anomalies[\"Anomalies\"].astype(int)\n",
    "    monthly_anomalies[\"Percentage_Change\"] = (\n",
    "        monthly_anomalies[\"Anomalies\"]\n",
    "            .pct_change()\n",
    "            .replace([float('inf'), float('-inf')], 0)\n",
    "            .fillna(0) * 100\n",
    "    )\n",
    "    \n",
    "    monthly_anomalies[\"Month\"] = monthly_anomalies[\"Month\"].apply(\n",
    "        lambda x: pd.Timestamp(year=current_year, month=x, day=1).strftime(\"%B\")\n",
    "    )\n",
    "\n",
    "    return monthly_anomalies.to_dict(orient=\"records\")"
   ]
  },
  {
   "cell_type": "code",
   "execution_count": 16,
   "id": "c80a3743-af86-4fe8-9d8a-e4691758a22c",
   "metadata": {},
   "outputs": [],
   "source": [
    "def fetch_latest_anomalies(count: int = 28):\n",
    "    df['Date'] = pd.to_datetime(df['Date'])\n",
    "    sorted_df = df.sort_values(by=\"Date\", ascending=False)\n",
    "    latest_data = sorted_df.head(count)\n",
    "    anomalies = latest_data[[\"Date\", \"Open\", \"Close\", \"High\", \"Low\",\"Anomaly\"]].to_dict(orient=\"records\")\n",
    "    for anomaly in anomalies:\n",
    "        anomaly[\"Date\"] = anomaly[\"Date\"].strftime(\"%Y-%m-%d\")  # Format dates\n",
    "    return anomalies"
   ]
  },
  {
   "cell_type": "code",
   "execution_count": 17,
   "id": "204e7b3e-96bf-4090-95e1-c910c74b8c6c",
   "metadata": {},
   "outputs": [],
   "source": [
    "@app.get(\"/latest_anomalies\", response_class=JSONResponse)\n",
    "async def latest_anomalies(count: int = 28):\n",
    "    anomalies = fetch_latest_anomalies(count)\n",
    "    return {\"anomalies\": anomalies}"
   ]
  },
  {
   "cell_type": "code",
   "execution_count": 18,
   "id": "0313e2ce-b8c9-4b2a-9a9f-7441eb10f4ee",
   "metadata": {},
   "outputs": [],
   "source": [
    "from datetime import datetime\n",
    "\n",
    "@app.get(\"/monthly_statistics\")\n",
    "async def monthly_statistics():\n",
    "    now = datetime.now()\n",
    "    current_year = now.year\n",
    "    current_month = now.month\n",
    "    df[\"Date\"] = pd.to_datetime(df[\"Date\"])\n",
    "    current_month_data = df[\n",
    "        (df[\"Date\"].dt.year == current_year) & (df[\"Date\"].dt.month == current_month)\n",
    "    ]\n",
    "    total_events = len(current_month_data)\n",
    "    total_anomalies = len(current_month_data[current_month_data[\"Anomaly\"] == 1])\n",
    "\n",
    "    return {\"total_events\": total_events, \"total_anomalies\": total_anomalies}"
   ]
  },
  {
   "cell_type": "code",
   "execution_count": 19,
   "id": "34d3631c-1b31-4b38-ab47-b6f14f5bdc9a",
   "metadata": {},
   "outputs": [],
   "source": [
    "def fetch_last_day_statistics():\n",
    "    try:\n",
    "        df = pd.read_csv(\"New_MSFT.csv\")\n",
    "        df['Date'] = pd.to_datetime(df['Date'])\n",
    "    except Exception as e:\n",
    "        print(\"Error processing the 'Date' column:\", e)\n",
    "        raise ValueError(\"Failed to process the 'Date' column\")\n",
    "\n",
    "    df = df.sort_values(by=\"Date\", ascending=False)\n",
    "    \n",
    "    last_day_data = df.iloc[0]\n",
    "    is_anomaly = bool(last_day_data['Anomaly'] == 1)\n",
    "    return {\n",
    "        \"date\": last_day_data['Date'].strftime('%Y-%m-%d'),\n",
    "        \"open\": last_day_data['Open'],\n",
    "        \"close\": last_day_data['Close'],\n",
    "        \"high\": last_day_data['High'],\n",
    "        \"low\": last_day_data['Low'],\n",
    "        \"is_anomaly\": is_anomaly\n",
    "    }"
   ]
  },
  {
   "cell_type": "code",
   "execution_count": 20,
   "id": "67998dac-3db0-4085-b20b-da3fc8a31d80",
   "metadata": {},
   "outputs": [],
   "source": [
    "@app.get(\"/daily_statistic\", response_class=JSONResponse)\n",
    "async def daily_statistic():\n",
    "    last_day_data = fetch_last_day_statistics()\n",
    "    return last_day_data\n"
   ]
  },
  {
   "cell_type": "code",
   "execution_count": 21,
   "id": "0848c634-6d17-427e-b775-755bc0540848",
   "metadata": {},
   "outputs": [],
   "source": [
    "@app.get(\"/\", response_class=HTMLResponse)\n",
    "async def index(request: Request):\n",
    "    anomalies_list = fetch_latest_anomalies()\n",
    "    return templates.TemplateResponse(\"dashboard.html\", {\"request\": request, \"anomalies\": anomalies_list})"
   ]
  },
  {
   "cell_type": "code",
   "execution_count": 22,
   "id": "88866b3e-1caa-48d5-9c47-a8c2c17d106e",
   "metadata": {},
   "outputs": [],
   "source": [
    "def run_fastapi():\n",
    "    uvicorn.run(app, host=\"0.0.0.0\", port=8000, reload=False)"
   ]
  },
  {
   "cell_type": "code",
   "execution_count": null,
   "id": "18016457-d7e3-49bd-84cb-17714b12a511",
   "metadata": {},
   "outputs": [
    {
     "name": "stderr",
     "output_type": "stream",
     "text": [
      "INFO:     Started server process [13308]\n",
      "INFO:     Waiting for application startup.\n",
      "INFO:     Application startup complete.\n",
      "INFO:     Uvicorn running on http://0.0.0.0:8000 (Press CTRL+C to quit)\n"
     ]
    },
    {
     "name": "stdout",
     "output_type": "stream",
     "text": [
      "INFO:     127.0.0.1:49772 - \"GET / HTTP/1.1\" 200 OK\n",
      "INFO:     127.0.0.1:49777 - \"GET /latest_anomalies?count=28 HTTP/1.1\" 200 OK\n",
      "INFO:     127.0.0.1:49772 - \"GET /anomalies HTTP/1.1\" 200 OK\n",
      "INFO:     127.0.0.1:49780 - \"GET /monthly_statistics HTTP/1.1\" 200 OK\n",
      "INFO:     127.0.0.1:49781 - \"GET /daily_statistic HTTP/1.1\" 200 OK\n",
      "INFO:     127.0.0.1:64224 - \"GET / HTTP/1.1\" 200 OK\n",
      "INFO:     127.0.0.1:64225 - \"GET /static/css/material-dashboard.css?v=3.2.0 HTTP/1.1\" 304 Not Modified\n",
      "INFO:     127.0.0.1:64225 - \"GET /anomalies HTTP/1.1\" 200 OK\n",
      "INFO:     127.0.0.1:64228 - \"GET /latest_anomalies?count=28 HTTP/1.1\" 200 OK\n",
      "INFO:     127.0.0.1:64229 - \"GET /daily_statistic HTTP/1.1\" 200 OK\n",
      "INFO:     127.0.0.1:64230 - \"GET /monthly_statistics HTTP/1.1\" 200 OK\n",
      "INFO:     127.0.0.1:64235 - \"GET / HTTP/1.1\" 200 OK\n",
      "INFO:     127.0.0.1:64237 - \"GET /anomalies HTTP/1.1\" 200 OK\n",
      "INFO:     127.0.0.1:64238 - \"GET /latest_anomalies?count=28 HTTP/1.1\" 200 OK\n",
      "INFO:     127.0.0.1:64239 - \"GET /monthly_statistics HTTP/1.1\" 200 OK\n",
      "INFO:     127.0.0.1:64240 - \"GET /daily_statistic HTTP/1.1\" 200 OK\n",
      "INFO:     127.0.0.1:64375 - \"GET / HTTP/1.1\" 200 OK\n",
      "INFO:     127.0.0.1:64375 - \"GET /anomalies HTTP/1.1\" 200 OK\n",
      "INFO:     127.0.0.1:64374 - \"GET /monthly_statistics HTTP/1.1\" 200 OK\n",
      "INFO:     127.0.0.1:64383 - \"GET /latest_anomalies?count=28 HTTP/1.1\" 200 OK\n",
      "INFO:     127.0.0.1:64382 - \"GET /daily_statistic HTTP/1.1\" 200 OK\n",
      "INFO:     127.0.0.1:64406 - \"GET / HTTP/1.1\" 200 OK\n",
      "INFO:     127.0.0.1:64406 - \"GET /anomalies HTTP/1.1\" 200 OK\n",
      "INFO:     127.0.0.1:64405 - \"GET /latest_anomalies?count=28 HTTP/1.1\" 200 OK\n",
      "INFO:     127.0.0.1:64412 - \"GET /monthly_statistics HTTP/1.1\" 200 OK\n",
      "INFO:     127.0.0.1:64413 - \"GET /daily_statistic HTTP/1.1\" 200 OK\n",
      "INFO:     127.0.0.1:64430 - \"GET / HTTP/1.1\" 200 OK\n",
      "INFO:     127.0.0.1:64430 - \"GET /anomalies HTTP/1.1\" 200 OK\n",
      "INFO:     127.0.0.1:64431 - \"GET /latest_anomalies?count=28 HTTP/1.1\" 200 OK\n",
      "INFO:     127.0.0.1:64436 - \"GET /daily_statistic HTTP/1.1\" 200 OK\n",
      "INFO:     127.0.0.1:64435 - \"GET /monthly_statistics HTTP/1.1\" 200 OK\n",
      "INFO:     127.0.0.1:64444 - \"GET / HTTP/1.1\" 200 OK\n",
      "INFO:     127.0.0.1:64444 - \"GET /anomalies HTTP/1.1\" 200 OK\n",
      "INFO:     127.0.0.1:64445 - \"GET /latest_anomalies?count=28 HTTP/1.1\" 200 OK\n",
      "INFO:     127.0.0.1:64452 - \"GET /monthly_statistics HTTP/1.1\" 200 OK\n",
      "INFO:     127.0.0.1:64453 - \"GET /daily_statistic HTTP/1.1\" 200 OK\n"
     ]
    }
   ],
   "source": [
    "run_fastapi()"
   ]
  }
 ],
 "metadata": {
  "kernelspec": {
   "display_name": "Python 3 (ipykernel)",
   "language": "python",
   "name": "python3"
  },
  "language_info": {
   "codemirror_mode": {
    "name": "ipython",
    "version": 3
   },
   "file_extension": ".py",
   "mimetype": "text/x-python",
   "name": "python",
   "nbconvert_exporter": "python",
   "pygments_lexer": "ipython3",
   "version": "3.12.3"
  }
 },
 "nbformat": 4,
 "nbformat_minor": 5
}
